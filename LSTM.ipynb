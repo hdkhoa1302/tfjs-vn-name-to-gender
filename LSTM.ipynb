{
 "cells": [
  {
   "cell_type": "code",
   "execution_count": 1,
   "metadata": {},
   "outputs": [
    {
     "name": "stderr",
     "output_type": "stream",
     "text": [
      "Using TensorFlow backend.\n"
     ]
    }
   ],
   "source": [
    "import csv\n",
    "import numpy as np\n",
    "import matplotlib.pyplot as plt\n",
    "from tensorflow.keras.models import Sequential\n",
    "from tensorflow.keras.layers import Dense, Dropout, Activation, Flatten\n",
    "from tensorflow.keras.layers import Embedding, LSTM\n",
    "from keras.utils import np_utils\n",
    "from tensorflow.keras.preprocessing.text import Tokenizer\n",
    "from tensorflow.keras.preprocessing.sequence import pad_sequences"
   ]
  },
  {
   "cell_type": "code",
   "execution_count": 2,
   "metadata": {},
   "outputs": [
    {
     "name": "stdout",
     "output_type": "stream",
     "text": [
      "data length = 63774\n",
      "max str length = 28\n"
     ]
    }
   ],
   "source": [
    "def loadData():\n",
    "    with open('dataset.csv', encoding='utf-8') as csvfile:\n",
    "        readCSV = csv.reader(csvfile, delimiter=',')\n",
    "        data = [row for row in readCSV]\n",
    "        return (data)\n",
    "    \n",
    "dataset = loadData()\n",
    "max_length = max([len(row[0]) for row in dataset])\n",
    "print('data length =', len(dataset))\n",
    "print('max str length =', max_length)"
   ]
  },
  {
   "cell_type": "code",
   "execution_count": 3,
   "metadata": {},
   "outputs": [],
   "source": [
    "def name2vec():\n",
    "    X_train = []\n",
    "    for row in dataset:\n",
    "        X_train.append(row[0])\n",
    "    return np.array(X_train)\n",
    "\n",
    "X_train = name2vec()"
   ]
  },
  {
   "cell_type": "code",
   "execution_count": 4,
   "metadata": {},
   "outputs": [],
   "source": [
    "tokenizer = Tokenizer(num_words=5000, lower=True,split=' ')\n",
    "tokenizer.fit_on_texts(X_train)\n",
    "nb_words = len(tokenizer.word_index.keys()) + 1\n",
    "X = tokenizer.texts_to_sequences(X_train)\n",
    "X = pad_sequences(X)"
   ]
  },
  {
   "cell_type": "code",
   "execution_count": 5,
   "metadata": {},
   "outputs": [],
   "source": [
    "def getGenders():\n",
    "    Y_train = []\n",
    "    for row in dataset:\n",
    "        if (row[1] == 'm'):\n",
    "            Y_train.append([1.0, 0.0])\n",
    "        else:\n",
    "            Y_train.append([0.0, 1.0])\n",
    "    return np.array(Y_train)\n",
    "\n",
    "Y = getGenders()"
   ]
  },
  {
   "cell_type": "code",
   "execution_count": 6,
   "metadata": {},
   "outputs": [
    {
     "name": "stdout",
     "output_type": "stream",
     "text": [
      "Model: \"sequential\"\n",
      "_________________________________________________________________\n",
      "Layer (type)                 Output Shape              Param #   \n",
      "=================================================================\n",
      "embedding (Embedding)        (None, 6, 128)            388352    \n",
      "_________________________________________________________________\n",
      "dropout (Dropout)            (None, 6, 128)            0         \n",
      "_________________________________________________________________\n",
      "lstm (LSTM)                  (None, 200)               263200    \n",
      "_________________________________________________________________\n",
      "dense (Dense)                (None, 2)                 402       \n",
      "=================================================================\n",
      "Total params: 651,954\n",
      "Trainable params: 651,954\n",
      "Non-trainable params: 0\n",
      "_________________________________________________________________\n"
     ]
    }
   ],
   "source": [
    "embed_dim = 128\n",
    "lstm_out = 200\n",
    "\n",
    "model = Sequential()\n",
    "model.add(Embedding(nb_words, embed_dim, input_length=X.shape[1]))\n",
    "model.add(Dropout(0.4))\n",
    "model.add(LSTM(lstm_out, dropout=0.2, recurrent_dropout=0.2))\n",
    "model.add(Dense(2, activation='softmax'))\n",
    "\n",
    "model.compile(loss='categorical_crossentropy', optimizer='adam', metrics=['accuracy'])\n",
    "model.summary()"
   ]
  },
  {
   "cell_type": "code",
   "execution_count": 7,
   "metadata": {},
   "outputs": [
    {
     "name": "stderr",
     "output_type": "stream",
     "text": [
      "C:\\ProgramData\\Anaconda3\\lib\\site-packages\\tensorflow\\python\\ops\\gradients_impl.py:108: UserWarning: Converting sparse IndexedSlices to a dense Tensor of unknown shape. This may consume a large amount of memory.\n",
      "  \"Converting sparse IndexedSlices to a dense Tensor of unknown shape. \"\n"
     ]
    },
    {
     "name": "stdout",
     "output_type": "stream",
     "text": [
      "Epoch 1/20\n",
      "63774/63774 [==============================] - 32s 494us/step - loss: 0.1880 - acc: 0.9176\n",
      "Epoch 2/20\n",
      "63774/63774 [==============================] - 29s 462us/step - loss: 0.1106 - acc: 0.9568\n",
      "Epoch 3/20\n",
      "63774/63774 [==============================] - 29s 455us/step - loss: 0.0991 - acc: 0.9610\n",
      "Epoch 4/20\n",
      "63774/63774 [==============================] - 29s 455us/step - loss: 0.0929 - acc: 0.9635\n",
      "Epoch 5/20\n",
      "63774/63774 [==============================] - 29s 452us/step - loss: 0.0883 - acc: 0.9662\n",
      "Epoch 6/20\n",
      "63774/63774 [==============================] - 30s 464us/step - loss: 0.0845 - acc: 0.9670\n",
      "Epoch 7/20\n",
      "63774/63774 [==============================] - 29s 454us/step - loss: 0.0824 - acc: 0.9681\n",
      "Epoch 8/20\n",
      "63774/63774 [==============================] - 29s 453us/step - loss: 0.0798 - acc: 0.9693\n",
      "Epoch 9/20\n",
      "63774/63774 [==============================] - 29s 455us/step - loss: 0.0788 - acc: 0.9690\n",
      "Epoch 10/20\n",
      "63774/63774 [==============================] - 29s 455us/step - loss: 0.0761 - acc: 0.9703\n",
      "Epoch 11/20\n",
      "63774/63774 [==============================] - 29s 454us/step - loss: 0.0754 - acc: 0.9707\n",
      "Epoch 12/20\n",
      "63774/63774 [==============================] - 29s 454us/step - loss: 0.0744 - acc: 0.9711\n",
      "Epoch 13/20\n",
      "63774/63774 [==============================] - 29s 451us/step - loss: 0.0721 - acc: 0.9725\n",
      "Epoch 14/20\n",
      "63774/63774 [==============================] - 29s 455us/step - loss: 0.0713 - acc: 0.9726\n",
      "Epoch 15/20\n",
      "63774/63774 [==============================] - 29s 453us/step - loss: 0.0702 - acc: 0.9721\n",
      "Epoch 16/20\n",
      "63774/63774 [==============================] - 29s 455us/step - loss: 0.0690 - acc: 0.9732\n",
      "Epoch 17/20\n",
      "63774/63774 [==============================] - 29s 452us/step - loss: 0.0684 - acc: 0.9734\n",
      "Epoch 18/20\n",
      "63774/63774 [==============================] - 29s 453us/step - loss: 0.0672 - acc: 0.9736\n",
      "Epoch 19/20\n",
      "63774/63774 [==============================] - 29s 455us/step - loss: 0.0665 - acc: 0.9741\n",
      "Epoch 20/20\n",
      "63774/63774 [==============================] - 29s 452us/step - loss: 0.0658 - acc: 0.9746\n"
     ]
    },
    {
     "data": {
      "text/plain": [
       "<tensorflow.python.keras.callbacks.History at 0x29f492e24a8>"
      ]
     },
     "execution_count": 7,
     "metadata": {},
     "output_type": "execute_result"
    }
   ],
   "source": [
    "model.fit(X, Y, batch_size=32, epochs=20, verbose=1)"
   ]
  },
  {
   "cell_type": "code",
   "execution_count": 8,
   "metadata": {},
   "outputs": [
    {
     "data": {
      "text/plain": [
       "'nữ'"
      ]
     },
     "execution_count": 8,
     "metadata": {},
     "output_type": "execute_result"
    }
   ],
   "source": [
    "def gender(name):\n",
    "    inp = tokenizer.texts_to_sequences(np.array([name]))\n",
    "    inp = pad_sequences(inp, maxlen=6)\n",
    "    pred = model.predict(inp)[0]\n",
    "    if pred[0] > pred[1]:\n",
    "        return \"nam\"\n",
    "    else:\n",
    "        return \"nữ\"\n",
    "\n",
    "gender(\"kiều thùy trang\")"
   ]
  },
  {
   "cell_type": "code",
   "execution_count": 9,
   "metadata": {
    "collapsed": true
   },
   "outputs": [],
   "source": [
    "model.save_weights('./model.h5')"
   ]
  },
  {
   "cell_type": "markdown",
   "metadata": {},
   "source": [
    "Đoạn này vì không thể cài `tensorflowjs` trên env hiện tại, nên mình phải save model lại và chuyển sang env khác để export model ra json"
   ]
  },
  {
   "cell_type": "code",
   "execution_count": 12,
   "metadata": {},
   "outputs": [],
   "source": [
    "import tensorflowjs as tfjs\n",
    "model.load_weights('./model.h5')\n",
    "tfjs.converters.save_keras_model(model, './modeljs')"
   ]
  },
  {
   "cell_type": "code",
   "execution_count": null,
   "metadata": {},
   "outputs": [],
   "source": []
  }
 ],
 "metadata": {
  "kernelspec": {
   "display_name": "Python 3",
   "language": "python",
   "name": "python3"
  },
  "language_info": {
   "codemirror_mode": {
    "name": "ipython",
    "version": 3
   },
   "file_extension": ".py",
   "mimetype": "text/x-python",
   "name": "python",
   "nbconvert_exporter": "python",
   "pygments_lexer": "ipython3",
   "version": "3.6.8"
  }
 },
 "nbformat": 4,
 "nbformat_minor": 2
}
