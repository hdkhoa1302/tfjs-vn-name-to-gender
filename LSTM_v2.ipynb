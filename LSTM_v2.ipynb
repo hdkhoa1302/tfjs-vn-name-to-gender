{
 "cells": [
  {
   "cell_type": "code",
   "execution_count": 1,
   "metadata": {},
   "outputs": [
    {
     "name": "stderr",
     "output_type": "stream",
     "text": [
      "Using TensorFlow backend.\n"
     ]
    }
   ],
   "source": [
    "import csv\n",
    "import numpy as np\n",
    "import matplotlib.pyplot as plt\n",
    "from tensorflow.keras.models import Sequential\n",
    "from tensorflow.keras.layers import Dense, Dropout, Activation, Flatten\n",
    "from tensorflow.keras.layers import Embedding, LSTM\n",
    "from keras.utils import np_utils\n",
    "from tensorflow.keras.preprocessing.sequence import pad_sequences\n",
    "from utils import remove_accents"
   ]
  },
  {
   "cell_type": "code",
   "execution_count": 3,
   "metadata": {},
   "outputs": [
    {
     "name": "stdout",
     "output_type": "stream",
     "text": [
      "data length = 63774\n",
      "max str length = 28\n"
     ]
    }
   ],
   "source": [
    "def loadData():\n",
    "    with open('dataset.csv', encoding='utf-8') as csvfile:\n",
    "        readCSV = csv.reader(csvfile, delimiter=',')\n",
    "        data = [row for row in readCSV]\n",
    "        return (data)\n",
    "    \n",
    "dataset = loadData()\n",
    "max_length = max([len(row[0]) for row in dataset])\n",
    "print('data length =', len(dataset))\n",
    "print('max str length =', max_length)"
   ]
  },
  {
   "cell_type": "code",
   "execution_count": 4,
   "metadata": {},
   "outputs": [
    {
     "name": "stdout",
     "output_type": "stream",
     "text": [
      "[[  0   0   0 ...  97 110 104]\n",
      " [  0   0   0 ...  97 110 104]\n",
      " [  0   0   0 ... 109  97 105]\n",
      " ...\n",
      " [  0   0   0 ... 121 101 110]\n",
      " [  0   0   0 ...  97 110 104]\n",
      " [  0   0   0 ...  97 110 104]] (127548, 28) 8217\n"
     ]
    }
   ],
   "source": [
    "highest_unicode = 0\n",
    "\n",
    "def updateHighestUnicode(ch):\n",
    "    global highest_unicode\n",
    "    chInt = ord(ch)\n",
    "    if chInt > highest_unicode:\n",
    "        highest_unicode = chInt\n",
    "\n",
    "def word2charArr(word):\n",
    "    arr = []\n",
    "    for i, ch in enumerate(list(word)):\n",
    "        arr.append(ord(ch))\n",
    "        updateHighestUnicode(ch)\n",
    "    return arr\n",
    "\n",
    "def name2vec():\n",
    "    X_train = []\n",
    "    for row in dataset:\n",
    "        word = row[0]\n",
    "        X_train.append(word2charArr(word))\n",
    "        word = remove_accents(row[0])\n",
    "        X_train.append(word2charArr(word))\n",
    "    return np.array(X_train)\n",
    "\n",
    "X_train = name2vec()\n",
    "X_train = pad_sequences(X_train)\n",
    "print(X_train, X_train.shape, highest_unicode)"
   ]
  },
  {
   "cell_type": "code",
   "execution_count": 5,
   "metadata": {},
   "outputs": [],
   "source": [
    "def gender2vec():\n",
    "    Y_train = []\n",
    "    for row in dataset:\n",
    "        if (row[1] == 'm'):\n",
    "            Y_train.extend([0, 0])\n",
    "        else:\n",
    "            Y_train.extend([1, 1])\n",
    "    return np.array(Y_train)\n",
    "\n",
    "Y_train = gender2vec()"
   ]
  },
  {
   "cell_type": "code",
   "execution_count": 6,
   "metadata": {},
   "outputs": [
    {
     "name": "stdout",
     "output_type": "stream",
     "text": [
      "Model: \"sequential_1\"\n",
      "_________________________________________________________________\n",
      "Layer (type)                 Output Shape              Param #   \n",
      "=================================================================\n",
      "embedding (Embedding)        (None, 28, 60)            493080    \n",
      "_________________________________________________________________\n",
      "dropout (Dropout)            (None, 28, 60)            0         \n",
      "_________________________________________________________________\n",
      "lstm (LSTM)                  (None, 128)               96768     \n",
      "_________________________________________________________________\n",
      "dense (Dense)                (None, 2)                 258       \n",
      "=================================================================\n",
      "Total params: 590,106\n",
      "Trainable params: 590,106\n",
      "Non-trainable params: 0\n",
      "_________________________________________________________________\n"
     ]
    }
   ],
   "source": [
    "model = Sequential()\n",
    "model.add(Embedding(highest_unicode+1, 60, input_length=X_train.shape[1]))\n",
    "model.add(Dropout(0.25))\n",
    "model.add(LSTM(128, dropout=0.2, recurrent_dropout=0.2))\n",
    "model.add(Dense(2, activation='softmax'))\n",
    "\n",
    "model.compile(optimizer='adam',\n",
    "              loss='sparse_categorical_crossentropy',\n",
    "              metrics=['accuracy'])\n",
    "\n",
    "model.summary()"
   ]
  },
  {
   "cell_type": "code",
   "execution_count": 12,
   "metadata": {},
   "outputs": [
    {
     "name": "stderr",
     "output_type": "stream",
     "text": [
      "c:\\programdata\\anaconda3\\envs\\tf-gpu\\lib\\site-packages\\tensorflow\\python\\ops\\gradients_impl.py:108: UserWarning: Converting sparse IndexedSlices to a dense Tensor of unknown shape. This may consume a large amount of memory.\n",
      "  \"Converting sparse IndexedSlices to a dense Tensor of unknown shape. \"\n"
     ]
    },
    {
     "name": "stdout",
     "output_type": "stream",
     "text": [
      "Epoch 1/10\n",
      "127548/127548 [==============================] - 202s 2ms/step - loss: 0.3138 - acc: 0.8517\n",
      "Epoch 2/10\n",
      "127548/127548 [==============================] - 192s 2ms/step - loss: 0.1753 - acc: 0.9270\n",
      "Epoch 3/10\n",
      "127548/127548 [==============================] - 191s 2ms/step - loss: 0.1400 - acc: 0.9442\n",
      "Epoch 4/10\n",
      "127548/127548 [==============================] - 193s 2ms/step - loss: 0.1252 - acc: 0.9502\n",
      "Epoch 5/10\n",
      "127548/127548 [==============================] - 191s 1ms/step - loss: 0.1157 - acc: 0.9537\n",
      "Epoch 6/10\n",
      "127548/127548 [==============================] - 191s 1ms/step - loss: 0.1110 - acc: 0.9565\n",
      "Epoch 7/10\n",
      "127548/127548 [==============================] - 192s 2ms/step - loss: 0.1066 - acc: 0.9576\n",
      "Epoch 8/10\n",
      "127548/127548 [==============================] - 193s 2ms/step - loss: 0.1030 - acc: 0.9590\n",
      "Epoch 9/10\n",
      "127548/127548 [==============================] - 191s 1ms/step - loss: 0.0998 - acc: 0.9605\n",
      "Epoch 10/10\n",
      "127548/127548 [==============================] - 191s 2ms/step - loss: 0.0984 - acc: 0.9609\n"
     ]
    }
   ],
   "source": [
    "H = model.fit(X_train, Y_train, batch_size=32, epochs=10, verbose=1)"
   ]
  },
  {
   "cell_type": "code",
   "execution_count": 13,
   "metadata": {},
   "outputs": [
    {
     "name": "stdout",
     "output_type": "stream",
     "text": [
      "[[  0   0   0   0   0   0   0   0   0   0   0   0   0   0   0   0   0 100\n",
      "  101  97 116 104  32  99 108 105  99 107]]\n"
     ]
    },
    {
     "data": {
      "text/plain": [
       "'nam'"
      ]
     },
     "execution_count": 13,
     "metadata": {},
     "output_type": "execute_result"
    }
   ],
   "source": [
    "def gender(name):\n",
    "    data = []\n",
    "    for i, ch in enumerate(list(name)):\n",
    "        data.append(ord(ch))\n",
    "    inp = np.array([data])\n",
    "    inp = pad_sequences(inp, maxlen=28)\n",
    "    print(inp)\n",
    "    pred = model.predict(inp)[0]\n",
    "    if pred[0] < pred[1]:\n",
    "        return \"nữ\"\n",
    "    else:\n",
    "        return \"nam\"\n",
    "\n",
    "gender(\"death click\")"
   ]
  },
  {
   "cell_type": "code",
   "execution_count": 14,
   "metadata": {},
   "outputs": [],
   "source": [
    "model.save_weights('./model_v2.h5')"
   ]
  },
  {
   "cell_type": "markdown",
   "metadata": {},
   "source": [
    "Đoạn này vì không thể cài `tensorflowjs` trên env hiện tại, nên mình phải save model lại và chuyển sang env khác để export model ra json"
   ]
  },
  {
   "cell_type": "code",
   "execution_count": 7,
   "metadata": {},
   "outputs": [],
   "source": [
    "import tensorflowjs as tfjs\n",
    "model.load_weights('./model_v2.h5')\n",
    "tfjs.converters.save_keras_model(model, './model_v2')"
   ]
  },
  {
   "cell_type": "code",
   "execution_count": null,
   "metadata": {},
   "outputs": [],
   "source": []
  }
 ],
 "metadata": {
  "kernelspec": {
   "display_name": "Python 3",
   "language": "python",
   "name": "python3"
  },
  "language_info": {
   "codemirror_mode": {
    "name": "ipython",
    "version": 3
   },
   "file_extension": ".py",
   "mimetype": "text/x-python",
   "name": "python",
   "nbconvert_exporter": "python",
   "pygments_lexer": "ipython3",
   "version": "3.6.8"
  }
 },
 "nbformat": 4,
 "nbformat_minor": 2
}
